{
 "cells": [
  {
   "cell_type": "code",
   "execution_count": 12,
   "metadata": {},
   "outputs": [],
   "source": [
    "import featuretools.primitives as primitives"
   ]
  },
  {
   "cell_type": "code",
   "execution_count": 13,
   "metadata": {},
   "outputs": [],
   "source": [
    "?primitives"
   ]
  },
  {
   "cell_type": "code",
   "execution_count": null,
   "metadata": {},
   "outputs": [],
   "source": []
  },
  {
   "cell_type": "code",
   "execution_count": null,
   "metadata": {},
   "outputs": [],
   "source": []
  },
  {
   "cell_type": "code",
   "execution_count": null,
   "metadata": {},
   "outputs": [],
   "source": []
  },
  {
   "cell_type": "markdown",
   "metadata": {},
   "source": [
    "自定义特征函数"
   ]
  },
  {
   "cell_type": "code",
   "execution_count": 1,
   "metadata": {},
   "outputs": [],
   "source": [
    "import featuretools as ft\n",
    "from featuretools.primitives import make_trans_primitive, Sum, Mean, Std\n",
    "from featuretools.variable_types import Text, Numeric\n"
   ]
  },
  {
   "cell_type": "code",
   "execution_count": 2,
   "metadata": {},
   "outputs": [],
   "source": [
    "def string_count(column, string=None):\n",
    "    '''\n",
    "    ..note:: this is a naive implementation used for clarity\n",
    "    '''\n",
    "    assert string is not None, \"string to count needs to be defined\"\n",
    "    counts = [element.lower().count(string) for element in column]\n",
    "    return counts\n"
   ]
  },
  {
   "cell_type": "code",
   "execution_count": 3,
   "metadata": {},
   "outputs": [],
   "source": [
    "\n",
    "def string_count_get_name(self):\n",
    "    return u\"STRING_COUNT(%s, %s)\" % (self.base_features[0].get_name(),\n",
    "                                      '\"'+str(self.kwargs['string']+'\"'))\n",
    "\n"
   ]
  },
  {
   "cell_type": "code",
   "execution_count": 4,
   "metadata": {},
   "outputs": [],
   "source": [
    "StringCount = make_trans_primitive(function=string_count,\n",
    "                                   input_types=[Text],\n",
    "                                   return_type=Numeric,\n",
    "                                   cls_attributes={\"get_name\": string_count_get_name})\n"
   ]
  },
  {
   "cell_type": "code",
   "execution_count": 5,
   "metadata": {},
   "outputs": [],
   "source": [
    "from featuretools.tests.testing_utils import make_ecommerce_entityset\n",
    "\n",
    "es = make_ecommerce_entityset()\n",
    "count_the_feat = StringCount(es['log']['comments'], string=\"the\")\n"
   ]
  },
  {
   "cell_type": "markdown",
   "metadata": {},
   "source": [
    "原始日志数据"
   ]
  },
  {
   "cell_type": "code",
   "execution_count": null,
   "metadata": {},
   "outputs": [],
   "source": [
    "es['log'].df.head()"
   ]
  },
  {
   "cell_type": "markdown",
   "metadata": {},
   "source": [
    "统计日志表的评论字段出现the的求和值、平均值、标准差"
   ]
  },
  {
   "cell_type": "code",
   "execution_count": 6,
   "metadata": {},
   "outputs": [
    {
     "data": {
      "text/html": [
       "<div>\n",
       "<style scoped>\n",
       "    .dataframe tbody tr th:only-of-type {\n",
       "        vertical-align: middle;\n",
       "    }\n",
       "\n",
       "    .dataframe tbody tr th {\n",
       "        vertical-align: top;\n",
       "    }\n",
       "\n",
       "    .dataframe thead th {\n",
       "        text-align: right;\n",
       "    }\n",
       "</style>\n",
       "<table border=\"1\" class=\"dataframe\">\n",
       "  <thead>\n",
       "    <tr style=\"text-align: right;\">\n",
       "      <th></th>\n",
       "      <th>STD(log.STRING_COUNT(comments, \"the\"))</th>\n",
       "      <th>SUM(log.STRING_COUNT(comments, \"the\"))</th>\n",
       "      <th>MEAN(log.STRING_COUNT(comments, \"the\"))</th>\n",
       "    </tr>\n",
       "    <tr>\n",
       "      <th>id</th>\n",
       "      <th></th>\n",
       "      <th></th>\n",
       "      <th></th>\n",
       "    </tr>\n",
       "  </thead>\n",
       "  <tbody>\n",
       "    <tr>\n",
       "      <th>0</th>\n",
       "      <td>47.124304</td>\n",
       "      <td>209</td>\n",
       "      <td>41.80</td>\n",
       "    </tr>\n",
       "    <tr>\n",
       "      <th>1</th>\n",
       "      <td>36.509131</td>\n",
       "      <td>109</td>\n",
       "      <td>27.25</td>\n",
       "    </tr>\n",
       "    <tr>\n",
       "      <th>2</th>\n",
       "      <td>NaN</td>\n",
       "      <td>29</td>\n",
       "      <td>29.00</td>\n",
       "    </tr>\n",
       "    <tr>\n",
       "      <th>3</th>\n",
       "      <td>49.497475</td>\n",
       "      <td>70</td>\n",
       "      <td>35.00</td>\n",
       "    </tr>\n",
       "    <tr>\n",
       "      <th>4</th>\n",
       "      <td>0.000000</td>\n",
       "      <td>0</td>\n",
       "      <td>0.00</td>\n",
       "    </tr>\n",
       "    <tr>\n",
       "      <th>5</th>\n",
       "      <td>1.414214</td>\n",
       "      <td>4</td>\n",
       "      <td>2.00</td>\n",
       "    </tr>\n",
       "  </tbody>\n",
       "</table>\n",
       "</div>"
      ],
      "text/plain": [
       "    STD(log.STRING_COUNT(comments, \"the\"))  \\\n",
       "id                                           \n",
       "0                                47.124304   \n",
       "1                                36.509131   \n",
       "2                                      NaN   \n",
       "3                                49.497475   \n",
       "4                                 0.000000   \n",
       "5                                 1.414214   \n",
       "\n",
       "    SUM(log.STRING_COUNT(comments, \"the\"))  \\\n",
       "id                                           \n",
       "0                                      209   \n",
       "1                                      109   \n",
       "2                                       29   \n",
       "3                                       70   \n",
       "4                                        0   \n",
       "5                                        4   \n",
       "\n",
       "    MEAN(log.STRING_COUNT(comments, \"the\"))  \n",
       "id                                           \n",
       "0                                     41.80  \n",
       "1                                     27.25  \n",
       "2                                     29.00  \n",
       "3                                     35.00  \n",
       "4                                      0.00  \n",
       "5                                      2.00  "
      ]
     },
     "execution_count": 6,
     "metadata": {},
     "output_type": "execute_result"
    }
   ],
   "source": [
    "feature_matrix, features = ft.dfs(entityset=es,\n",
    "                                      target_entity=\"sessions\",\n",
    "                                      agg_primitives=[Sum, Mean, Std],\n",
    "                                      seed_features=[count_the_feat])\n",
    "feature_matrix[['STD(log.STRING_COUNT(comments, \"the\"))', 'SUM(log.STRING_COUNT(comments, \"the\"))', 'MEAN(log.STRING_COUNT(comments, \"the\"))']]"
   ]
  },
  {
   "cell_type": "code",
   "execution_count": 9,
   "metadata": {},
   "outputs": [
    {
     "data": {
      "text/html": [
       "<div>\n",
       "<style scoped>\n",
       "    .dataframe tbody tr th:only-of-type {\n",
       "        vertical-align: middle;\n",
       "    }\n",
       "\n",
       "    .dataframe tbody tr th {\n",
       "        vertical-align: top;\n",
       "    }\n",
       "\n",
       "    .dataframe thead th {\n",
       "        text-align: right;\n",
       "    }\n",
       "</style>\n",
       "<table border=\"1\" class=\"dataframe\">\n",
       "  <thead>\n",
       "    <tr style=\"text-align: right;\">\n",
       "      <th></th>\n",
       "      <th>id</th>\n",
       "      <th>session_id</th>\n",
       "      <th>product_id</th>\n",
       "      <th>datetime</th>\n",
       "      <th>value</th>\n",
       "      <th>value_2</th>\n",
       "      <th>latlong</th>\n",
       "      <th>latlong2</th>\n",
       "      <th>value_many_nans</th>\n",
       "      <th>priority_level</th>\n",
       "      <th>purchased</th>\n",
       "      <th>comments</th>\n",
       "    </tr>\n",
       "  </thead>\n",
       "  <tbody>\n",
       "    <tr>\n",
       "      <th>0</th>\n",
       "      <td>0</td>\n",
       "      <td>0</td>\n",
       "      <td>coke zero</td>\n",
       "      <td>2011-04-09 10:30:00</td>\n",
       "      <td>0.0</td>\n",
       "      <td>0.0</td>\n",
       "      <td>(0.0, 0.0)</td>\n",
       "      <td>(0.0, 0.0)</td>\n",
       "      <td>NaN</td>\n",
       "      <td>0</td>\n",
       "      <td>True</td>\n",
       "      <td>\\nWhen it comes to Coca-Cola products, people ...</td>\n",
       "    </tr>\n",
       "    <tr>\n",
       "      <th>1</th>\n",
       "      <td>1</td>\n",
       "      <td>0</td>\n",
       "      <td>coke zero</td>\n",
       "      <td>2011-04-09 10:30:06</td>\n",
       "      <td>5.0</td>\n",
       "      <td>2.0</td>\n",
       "      <td>(5.0, 2.0)</td>\n",
       "      <td>(2.0, -5.0)</td>\n",
       "      <td>NaN</td>\n",
       "      <td>0</td>\n",
       "      <td>True</td>\n",
       "      <td>I loved it</td>\n",
       "    </tr>\n",
       "    <tr>\n",
       "      <th>2</th>\n",
       "      <td>2</td>\n",
       "      <td>0</td>\n",
       "      <td>coke zero</td>\n",
       "      <td>2011-04-09 10:30:12</td>\n",
       "      <td>10.0</td>\n",
       "      <td>4.0</td>\n",
       "      <td>(10.0, 4.0)</td>\n",
       "      <td>(4.0, -10.0)</td>\n",
       "      <td>NaN</td>\n",
       "      <td>1</td>\n",
       "      <td>True</td>\n",
       "      <td>I loved it</td>\n",
       "    </tr>\n",
       "    <tr>\n",
       "      <th>3</th>\n",
       "      <td>3</td>\n",
       "      <td>0</td>\n",
       "      <td>car</td>\n",
       "      <td>2011-04-09 10:30:18</td>\n",
       "      <td>15.0</td>\n",
       "      <td>6.0</td>\n",
       "      <td>(15.0, 6.0)</td>\n",
       "      <td>(6.0, -15.0)</td>\n",
       "      <td>NaN</td>\n",
       "      <td>1</td>\n",
       "      <td>True</td>\n",
       "      <td>\\nThe full-size pickup truck and the V-8 engin...</td>\n",
       "    </tr>\n",
       "    <tr>\n",
       "      <th>4</th>\n",
       "      <td>4</td>\n",
       "      <td>0</td>\n",
       "      <td>car</td>\n",
       "      <td>2011-04-09 10:30:24</td>\n",
       "      <td>20.0</td>\n",
       "      <td>8.0</td>\n",
       "      <td>(20.0, 8.0)</td>\n",
       "      <td>(8.0, -20.0)</td>\n",
       "      <td>NaN</td>\n",
       "      <td>1</td>\n",
       "      <td>True</td>\n",
       "      <td>\\nTHE GOOD\\nThe Tesla Model S 90D's electric d...</td>\n",
       "    </tr>\n",
       "  </tbody>\n",
       "</table>\n",
       "</div>"
      ],
      "text/plain": [
       "   id  session_id product_id            datetime  value  value_2      latlong  \\\n",
       "0   0           0  coke zero 2011-04-09 10:30:00    0.0      0.0   (0.0, 0.0)   \n",
       "1   1           0  coke zero 2011-04-09 10:30:06    5.0      2.0   (5.0, 2.0)   \n",
       "2   2           0  coke zero 2011-04-09 10:30:12   10.0      4.0  (10.0, 4.0)   \n",
       "3   3           0        car 2011-04-09 10:30:18   15.0      6.0  (15.0, 6.0)   \n",
       "4   4           0        car 2011-04-09 10:30:24   20.0      8.0  (20.0, 8.0)   \n",
       "\n",
       "       latlong2  value_many_nans  priority_level  purchased  \\\n",
       "0    (0.0, 0.0)              NaN               0       True   \n",
       "1   (2.0, -5.0)              NaN               0       True   \n",
       "2  (4.0, -10.0)              NaN               1       True   \n",
       "3  (6.0, -15.0)              NaN               1       True   \n",
       "4  (8.0, -20.0)              NaN               1       True   \n",
       "\n",
       "                                            comments  \n",
       "0  \\nWhen it comes to Coca-Cola products, people ...  \n",
       "1                                         I loved it  \n",
       "2                                         I loved it  \n",
       "3  \\nThe full-size pickup truck and the V-8 engin...  \n",
       "4  \\nTHE GOOD\\nThe Tesla Model S 90D's electric d...  "
      ]
     },
     "execution_count": 9,
     "metadata": {},
     "output_type": "execute_result"
    }
   ],
   "source": []
  }
 ],
 "metadata": {
  "kernelspec": {
   "display_name": "Python 3",
   "language": "python",
   "name": "python3"
  },
  "language_info": {
   "codemirror_mode": {
    "name": "ipython",
    "version": 3
   },
   "file_extension": ".py",
   "mimetype": "text/x-python",
   "name": "python",
   "nbconvert_exporter": "python",
   "pygments_lexer": "ipython3",
   "version": "3.6.5"
  }
 },
 "nbformat": 4,
 "nbformat_minor": 2
}
